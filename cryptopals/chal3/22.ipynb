{
 "cells": [
  {
   "cell_type": "code",
   "execution_count": 4,
   "metadata": {},
   "outputs": [
    {
     "name": "stdout",
     "output_type": "stream",
     "text": [
      "abcdefghijklmnopqrstuvwxyz\n"
     ]
    },
    {
     "data": {
      "text/plain": [
       "{'a': 0.07743208627550165,\n",
       " 'b': 0.01402241586697527,\n",
       " 'c': 0.02665670667329359,\n",
       " 'd': 0.04920785702311875,\n",
       " 'e': 0.13464518994079883,\n",
       " 'f': 0.025036247121552113,\n",
       " 'g': 0.017007472935972733,\n",
       " 'h': 0.05719839895067157,\n",
       " 'i': 0.06294794236928244,\n",
       " 'j': 0.001267546400727001,\n",
       " 'k': 0.005084890317533608,\n",
       " 'l': 0.03706176274237046,\n",
       " 'm': 0.030277007414117114,\n",
       " 'n': 0.07125316518982316,\n",
       " 'o': 0.07380002176297765,\n",
       " 'p': 0.017513315119093483,\n",
       " 'q': 0.0009499245648139707,\n",
       " 'r': 0.06107162078305546,\n",
       " 's': 0.061262782073188304,\n",
       " 't': 0.08760480785349399,\n",
       " 'u': 0.030426995503298266,\n",
       " 'v': 0.01113735085743191,\n",
       " 'w': 0.02168063124398945,\n",
       " 'x': 0.0019880774173815607,\n",
       " 'y': 0.022836421813561863,\n",
       " 'z': 0.0006293617859758195}"
      ]
     },
     "execution_count": 4,
     "metadata": {},
     "output_type": "execute_result"
    }
   ],
   "source": [
    "with open(\"d:/GitRepo/ctf/cryptopals/chal3/frank.txt\", encoding=\"utf8\") as f:\n",
    "    book = f.read()\n",
    "    \n",
    "len(book)\n",
    "\n",
    "from collections import Counter\n",
    "from string import ascii_lowercase, ascii_uppercase, ascii_letters\n",
    "\n",
    "print(ascii_lowercase)\n",
    "\n",
    "def get_freq(text, letters):\n",
    "    counts = Counter()\n",
    "    for letter in letters:\n",
    "        counts[letter] += text.count(letter)\n",
    "    total = sum(counts.values())\n",
    "    return {letter: counts[letter] / total for letter in letters}\n",
    "        \n",
    "get_freq(book, ascii_lowercase)\n",
    "\n"
   ]
  }
 ],
 "metadata": {
  "kernelspec": {
   "display_name": "Python 3.10.8 64-bit (microsoft store)",
   "language": "python",
   "name": "python3"
  },
  "language_info": {
   "codemirror_mode": {
    "name": "ipython",
    "version": 3
   },
   "file_extension": ".py",
   "mimetype": "text/x-python",
   "name": "python",
   "nbconvert_exporter": "python",
   "pygments_lexer": "ipython3",
   "version": "3.10.8"
  },
  "orig_nbformat": 4,
  "vscode": {
   "interpreter": {
    "hash": "db9c161d9acf9c0989b367c26af6a36456607f3265a3f0a91ff4a7f9fedbcfda"
   }
  }
 },
 "nbformat": 4,
 "nbformat_minor": 2
}
