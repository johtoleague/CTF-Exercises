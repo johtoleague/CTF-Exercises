{
 "cells": [
  {
   "cell_type": "code",
   "execution_count": 6,
   "metadata": {},
   "outputs": [
    {
     "name": "stdout",
     "output_type": "stream",
     "text": [
      "abcdefghijklmnopqrstuvwxyz\n"
     ]
    },
    {
     "ename": "AttributeError",
     "evalue": "'str' object has no attribute 'counts'",
     "output_type": "error",
     "traceback": [
      "\u001b[0;31m---------------------------------------------------------------------------\u001b[0m",
      "\u001b[0;31mAttributeError\u001b[0m                            Traceback (most recent call last)",
      "Cell \u001b[0;32mIn [6], line 18\u001b[0m\n\u001b[1;32m     15\u001b[0m     total \u001b[39m=\u001b[39m \u001b[39msum\u001b[39m(counts\u001b[39m.\u001b[39mvalues())\n\u001b[1;32m     16\u001b[0m     \u001b[39mreturn\u001b[39;00m {letter: counts[letter] \u001b[39m/\u001b[39m total \u001b[39mfor\u001b[39;00m letter \u001b[39min\u001b[39;00m letters}\n\u001b[0;32m---> 18\u001b[0m get_freq(book, ascii_lowercase)\n",
      "Cell \u001b[0;32mIn [6], line 14\u001b[0m, in \u001b[0;36mget_freq\u001b[0;34m(text, letters)\u001b[0m\n\u001b[1;32m     12\u001b[0m counts \u001b[39m=\u001b[39m Counter()\n\u001b[1;32m     13\u001b[0m \u001b[39mfor\u001b[39;00m letter \u001b[39min\u001b[39;00m letters:\n\u001b[0;32m---> 14\u001b[0m     counts[letter] \u001b[39m+\u001b[39m\u001b[39m=\u001b[39m text\u001b[39m.\u001b[39;49mcounts(letter)\n\u001b[1;32m     15\u001b[0m total \u001b[39m=\u001b[39m \u001b[39msum\u001b[39m(counts\u001b[39m.\u001b[39mvalues())\n\u001b[1;32m     16\u001b[0m \u001b[39mreturn\u001b[39;00m {letter: counts[letter] \u001b[39m/\u001b[39m total \u001b[39mfor\u001b[39;00m letter \u001b[39min\u001b[39;00m letters}\n",
      "\u001b[0;31mAttributeError\u001b[0m: 'str' object has no attribute 'counts'"
     ]
    }
   ],
   "source": [
    "with open(\"/home/assessor/ctf/cryptopals/chal3/frank.txt\") as f:\n",
    "    book = f.read()\n",
    "    \n",
    "len(book)\n",
    "\n",
    "from collections import Counter\n",
    "from string import ascii_lowercase, ascii_uppercase, ascii_letters\n",
    "\n",
    "print(ascii_lowercase)\n",
    "\n",
    "def get_freq(text, letters):\n",
    "    counts = Counter()\n",
    "    for letter in letters:\n",
    "        counts[letter] += text.count(letter)\n",
    "    total = sum(counts.values())\n",
    "    return {letter: counts[letter] / total for letter in letters}\n",
    "        \n",
    "get_freq(book, ascii_lowercase)"
   ]
  }
 ],
 "metadata": {
  "kernelspec": {
   "display_name": "Python 3.8.10 64-bit",
   "language": "python",
   "name": "python3"
  },
  "language_info": {
   "codemirror_mode": {
    "name": "ipython",
    "version": 3
   },
   "file_extension": ".py",
   "mimetype": "text/x-python",
   "name": "python",
   "nbconvert_exporter": "python",
   "pygments_lexer": "ipython3",
   "version": "3.8.10"
  },
  "orig_nbformat": 4,
  "vscode": {
   "interpreter": {
    "hash": "916dbcbb3f70747c44a77c7bcd40155683ae19c65e1c03b4aa3499c5328201f1"
   }
  }
 },
 "nbformat": 4,
 "nbformat_minor": 2
}
