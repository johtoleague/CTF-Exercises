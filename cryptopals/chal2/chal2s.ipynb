{
 "cells": [
  {
   "cell_type": "code",
   "execution_count": 2,
   "metadata": {},
   "outputs": [
    {
     "name": "stdout",
     "output_type": "stream",
     "text": [
      "b'\\x1c\\x01\\x11\\x00\\x1f\\x01\\x01\\x00\\x06\\x1a\\x02KSSP\\t\\x18\\x1c'\n",
      "b\"hit the bull's eye\"\n"
     ]
    }
   ],
   "source": [
    "hex1 = \"1c0111001f010100061a024b53535009181c\"\n",
    "#xored by \n",
    "hex2 = \"686974207468652062756c6c277320657965\"\n",
    "#should produce\n",
    "hex3 = \"746865206b696420646f6e277420706c6179\"\n",
    "\n",
    "a = bytes.fromhex(hex1)\n",
    "print(a)\n",
    "b = bytes.fromhex(hex2)\n",
    "print(b)\n"
   ]
  }
 ],
 "metadata": {
  "kernelspec": {
   "display_name": "Python 3.8.10 64-bit",
   "language": "python",
   "name": "python3"
  },
  "language_info": {
   "codemirror_mode": {
    "name": "ipython",
    "version": 3
   },
   "file_extension": ".py",
   "mimetype": "text/x-python",
   "name": "python",
   "nbconvert_exporter": "python",
   "pygments_lexer": "ipython3",
   "version": "3.8.10"
  },
  "orig_nbformat": 4,
  "vscode": {
   "interpreter": {
    "hash": "916dbcbb3f70747c44a77c7bcd40155683ae19c65e1c03b4aa3499c5328201f1"
   }
  }
 },
 "nbformat": 4,
 "nbformat_minor": 2
}
