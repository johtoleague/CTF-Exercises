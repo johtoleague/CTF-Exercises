{
 "cells": [
  {
   "cell_type": "code",
   "execution_count": 4,
   "metadata": {},
   "outputs": [
    {
     "name": "stdout",
     "output_type": "stream",
     "text": [
      "b'\\x1c\\x01\\x11\\x00\\x1f\\x01\\x01\\x00\\x06\\x1a\\x02KSSP\\t\\x18\\x1c'\n",
      "b\"hit the bull's eye\"\n",
      "1.32 µs ± 28.6 ns per loop (mean ± std. dev. of 7 runs, 1,000,000 loops each)\n",
      "1.02 µs ± 15.4 ns per loop (mean ± std. dev. of 7 runs, 1,000,000 loops each)\n"
     ]
    }
   ],
   "source": [
    "hex1 = \"1c0111001f010100061a024b53535009181c\"\n",
    "#xored by \n",
    "hex2 = \"686974207468652062756c6c277320657965\"\n",
    "#should produce\n",
    "hex3 = \"746865206b696420646f6e277420706c6179\"\n",
    "\n",
    "a = bytes.fromhex(hex1)\n",
    "print(a)\n",
    "b = bytes.fromhex(hex2)\n",
    "print(b)\n",
    "\n",
    "def iter_1(a, b):\n",
    "    for i in range(min(len(a), len(b))):\n",
    "        a[i], b[i]\n",
    "%timeit iter_1(a,b)\n",
    "\n",
    "def iter_2(a, b):\n",
    "    for byte_1, byte_2 in zip(a, b):\n",
    "        byte_1, byte_2\n",
    "%timeit iter_2(a,b)"
   ]
  },
  {
   "cell_type": "code",
   "execution_count": 14,
   "metadata": {},
   "outputs": [
    {
     "name": "stdout",
     "output_type": "stream",
     "text": [
      "CPU times: user 6 µs, sys: 1e+03 ns, total: 7 µs\n",
      "Wall time: 9.54 µs\n"
     ]
    }
   ],
   "source": [
    "def iter_2(a, b):\n",
    "    for byte_1, byte_2 in zip(a, b):\n",
    "        byte_1, byte_2\n",
    "%timeit iter_2(a,b)"
   ]
  },
  {
   "cell_type": "code",
   "execution_count": 2,
   "metadata": {},
   "outputs": [
    {
     "ename": "NameError",
     "evalue": "name 'a' is not defined",
     "output_type": "error",
     "traceback": [
      "\u001b[1;31m---------------------------------------------------------------------------\u001b[0m",
      "\u001b[1;31mNameError\u001b[0m                                 Traceback (most recent call last)",
      "File \u001b[1;32m<timed eval>:1\u001b[0m\n",
      "\u001b[1;31mNameError\u001b[0m: name 'a' is not defined"
     ]
    }
   ],
   "source": [
    "def iter_1(a, b):\n",
    "    for i in range(min(len(a), len(b))):\n",
    "        a[i], b[i]\n",
    "%timeit iter_1(a,b)\n"
   ]
  }
 ],
 "metadata": {
  "kernelspec": {
   "display_name": "Python 3.10.8 64-bit (microsoft store)",
   "language": "python",
   "name": "python3"
  },
  "language_info": {
   "codemirror_mode": {
    "name": "ipython",
    "version": 3
   },
   "file_extension": ".py",
   "mimetype": "text/x-python",
   "name": "python",
   "nbconvert_exporter": "python",
   "pygments_lexer": "ipython3",
   "version": "3.10.8"
  },
  "orig_nbformat": 4,
  "vscode": {
   "interpreter": {
    "hash": "db9c161d9acf9c0989b367c26af6a36456607f3265a3f0a91ff4a7f9fedbcfda"
   }
  }
 },
 "nbformat": 4,
 "nbformat_minor": 2
}
