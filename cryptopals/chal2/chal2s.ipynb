{
 "cells": [
  {
   "cell_type": "code",
   "execution_count": 5,
   "metadata": {},
   "outputs": [
    {
     "name": "stdout",
     "output_type": "stream",
     "text": [
      "b'\\x1c\\x01\\x11\\x00\\x1f\\x01\\x01\\x00\\x06\\x1a\\x02KSSP\\t\\x18\\x1c'\n",
      "b\"hit the bull's eye\"\n"
     ]
    },
    {
     "ename": "TypeError",
     "evalue": "len() takes exactly one argument (2 given)",
     "output_type": "error",
     "traceback": [
      "\u001b[0;31m---------------------------------------------------------------------------\u001b[0m",
      "\u001b[0;31mTypeError\u001b[0m                                 Traceback (most recent call last)",
      "File \u001b[0;32m<timed eval>:1\u001b[0m\n",
      "Cell \u001b[0;32mIn [5], line 13\u001b[0m, in \u001b[0;36miter_1\u001b[0;34m(a, b)\u001b[0m\n\u001b[1;32m     12\u001b[0m \u001b[39mdef\u001b[39;00m \u001b[39miter_1\u001b[39m(a, b):\n\u001b[0;32m---> 13\u001b[0m     \u001b[39mfor\u001b[39;00m i \u001b[39min\u001b[39;00m \u001b[39mrange\u001b[39m(\u001b[39mmin\u001b[39m(\u001b[39mlen\u001b[39;49m(a, \u001b[39mlen\u001b[39;49m(b)))):\n\u001b[1;32m     14\u001b[0m         a[i], b[i]\n",
      "\u001b[0;31mTypeError\u001b[0m: len() takes exactly one argument (2 given)"
     ]
    }
   ],
   "source": [
    "hex1 = \"1c0111001f010100061a024b53535009181c\"\n",
    "#xored by \n",
    "hex2 = \"686974207468652062756c6c277320657965\"\n",
    "#should produce\n",
    "hex3 = \"746865206b696420646f6e277420706c6179\"\n",
    "\n",
    "a = bytes.fromhex(hex1)\n",
    "print(a)\n",
    "b = bytes.fromhex(hex2)\n",
    "print(b)\n",
    "\n"
   ]
  },
  {
   "cell_type": "code",
   "execution_count": 14,
   "metadata": {},
   "outputs": [
    {
     "name": "stdout",
     "output_type": "stream",
     "text": [
      "CPU times: user 6 µs, sys: 1e+03 ns, total: 7 µs\n",
      "Wall time: 9.54 µs\n"
     ]
    }
   ],
   "source": [
    "def iter_2(a, b):\n",
    "    for byte_1, byte_2 in zip(a, b):\n",
    "        byte_1, byte_2\n",
    "%timeit iter_2(a,b)"
   ]
  },
  {
   "cell_type": "code",
   "execution_count": 12,
   "metadata": {},
   "outputs": [
    {
     "name": "stdout",
     "output_type": "stream",
     "text": [
      "CPU times: user 7 µs, sys: 0 ns, total: 7 µs\n",
      "Wall time: 9.3 µs\n"
     ]
    }
   ],
   "source": [
    "def iter_1(a, b):\n",
    "    for i in range(min(len(a), len(b))):\n",
    "        a[i], b[i]\n",
    "%time iter_1(a,b)\n"
   ]
  }
 ],
 "metadata": {
  "kernelspec": {
   "display_name": "Python 3.8.10 64-bit",
   "language": "python",
   "name": "python3"
  },
  "language_info": {
   "codemirror_mode": {
    "name": "ipython",
    "version": 3
   },
   "file_extension": ".py",
   "mimetype": "text/x-python",
   "name": "python",
   "nbconvert_exporter": "python",
   "pygments_lexer": "ipython3",
   "version": "3.8.10"
  },
  "orig_nbformat": 4,
  "vscode": {
   "interpreter": {
    "hash": "916dbcbb3f70747c44a77c7bcd40155683ae19c65e1c03b4aa3499c5328201f1"
   }
  }
 },
 "nbformat": 4,
 "nbformat_minor": 2
}
